{
  "nbformat": 4,
  "nbformat_minor": 0,
  "metadata": {
    "colab": {
      "name": "GW Challenge 4",
      "provenance": []
    },
    "kernelspec": {
      "name": "python3",
      "display_name": "Python 3"
    },
    "language_info": {
      "name": "python"
    }
  },
  "cells": [
    {
      "cell_type": "markdown",
      "source": [
        "Challenge 4\n",
        "1. Load the data of the LIGO Hanford detector from [2]. Plot the noise power spectral density (PSD) of that data. Test whether there is any gravitational wave signal present in the data or not? For this test, you can assume the GW signals can produce only from equal mass binary systems with a range between 5 to 10. We assume a threshold on matched filter SNR of 8 to claim detection of GW.\n",
        "2. Whiten the above data using its noise PSD. You can use PyCBC based function of the Welch method to estimate the PSD. Construct a histogram of the whitened data and show that the whiten data follows a Gaussian distribution with zero mean.\n"
      ],
      "metadata": {
        "id": "bzH12IqF5PEw"
      }
    },
    {
      "cell_type": "code",
      "source": [
        "! pip install -q lalsuite\n",
        "! pip install -q gwpy\n",
        "! pip install -q pycbc\n",
        "# -- Click \"restart runtime\" in the runtime menu\n",
        "! pip install matplotlib==3.1.3"
      ],
      "metadata": {
        "colab": {
          "base_uri": "https://localhost:8080/",
          "height": 1000
        },
        "id": "fvBWo-Nw5t8A",
        "outputId": "5bfa217a-7365-4c21-fc59-ca35028f5e96"
      },
      "execution_count": 1,
      "outputs": [
        {
          "output_type": "stream",
          "name": "stdout",
          "text": [
            "\u001b[K     |████████████████████████████████| 46.2 MB 1.9 MB/s \n",
            "\u001b[K     |████████████████████████████████| 1.4 MB 52.4 MB/s \n",
            "\u001b[?25h  Installing build dependencies ... \u001b[?25l\u001b[?25hdone\n",
            "  Getting requirements to build wheel ... \u001b[?25l\u001b[?25hdone\n",
            "    Preparing wheel metadata ... \u001b[?25l\u001b[?25hdone\n",
            "\u001b[K     |████████████████████████████████| 51 kB 5.3 MB/s \n",
            "\u001b[K     |████████████████████████████████| 295 kB 55.2 MB/s \n",
            "\u001b[K     |████████████████████████████████| 55 kB 2.8 MB/s \n",
            "\u001b[K     |████████████████████████████████| 3.6 MB 43.5 MB/s \n",
            "\u001b[?25h  Building wheel for ligo-segments (setup.py) ... \u001b[?25l\u001b[?25hdone\n",
            "  Building wheel for lscsoft-glue (PEP 517) ... \u001b[?25l\u001b[?25hdone\n",
            "\u001b[K     |████████████████████████████████| 1.4 MB 5.5 MB/s \n",
            "\u001b[K     |████████████████████████████████| 11.2 MB 21.9 MB/s \n",
            "\u001b[K     |████████████████████████████████| 895 kB 58.4 MB/s \n",
            "\u001b[31mERROR: pip's dependency resolver does not currently take into account all the packages that are installed. This behaviour is the source of the following dependency conflicts.\n",
            "albumentations 0.1.12 requires imgaug<0.2.7,>=0.2.5, but you have imgaug 0.2.9 which is incompatible.\u001b[0m\n",
            "\u001b[K     |████████████████████████████████| 6.7 MB 4.4 MB/s \n",
            "\u001b[K     |████████████████████████████████| 7.3 MB 25.7 MB/s \n",
            "\u001b[K     |████████████████████████████████| 324 kB 49.3 MB/s \n",
            "\u001b[?25h  Installing build dependencies ... \u001b[?25l\u001b[?25hdone\n",
            "  Getting requirements to build wheel ... \u001b[?25l\u001b[?25hdone\n",
            "    Preparing wheel metadata ... \u001b[?25l\u001b[?25hdone\n",
            "\u001b[K     |████████████████████████████████| 201 kB 61.3 MB/s \n",
            "\u001b[K     |████████████████████████████████| 75 kB 3.2 MB/s \n",
            "\u001b[K     |████████████████████████████████| 636 kB 57.6 MB/s \n",
            "\u001b[K     |████████████████████████████████| 180 kB 57.0 MB/s \n",
            "\u001b[K     |████████████████████████████████| 61 kB 4.5 MB/s \n",
            "\u001b[K     |████████████████████████████████| 1.3 MB 38.2 MB/s \n",
            "\u001b[K     |████████████████████████████████| 87 kB 5.7 MB/s \n",
            "\u001b[?25h  Installing build dependencies ... \u001b[?25l\u001b[?25hdone\n",
            "  Getting requirements to build wheel ... \u001b[?25l\u001b[?25hdone\n",
            "    Preparing wheel metadata ... \u001b[?25l\u001b[?25hdone\n",
            "\u001b[K     |████████████████████████████████| 148 kB 52.4 MB/s \n",
            "\u001b[K     |████████████████████████████████| 56 kB 3.1 MB/s \n",
            "\u001b[?25h  Installing build dependencies ... \u001b[?25l\u001b[?25hdone\n",
            "  Getting requirements to build wheel ... \u001b[?25l\u001b[?25hdone\n",
            "    Preparing wheel metadata ... \u001b[?25l\u001b[?25hdone\n",
            "\u001b[K     |████████████████████████████████| 43 kB 1.3 MB/s \n",
            "\u001b[?25h  Installing build dependencies ... \u001b[?25l\u001b[?25hdone\n",
            "  Getting requirements to build wheel ... \u001b[?25l\u001b[?25hdone\n",
            "    Preparing wheel metadata ... \u001b[?25l\u001b[?25hdone\n",
            "\u001b[K     |████████████████████████████████| 45 kB 2.0 MB/s \n",
            "\u001b[?25h  Installing build dependencies ... \u001b[?25l\u001b[?25hdone\n",
            "  Getting requirements to build wheel ... \u001b[?25l\u001b[?25hdone\n",
            "    Preparing wheel metadata ... \u001b[?25l\u001b[?25hdone\n",
            "\u001b[K     |████████████████████████████████| 63 kB 1.5 MB/s \n",
            "\u001b[K     |████████████████████████████████| 55 kB 3.5 MB/s \n",
            "\u001b[K     |████████████████████████████████| 131 kB 52.1 MB/s \n",
            "\u001b[K     |████████████████████████████████| 79 kB 6.2 MB/s \n",
            "\u001b[K     |████████████████████████████████| 7.7 MB 39.4 MB/s \n",
            "\u001b[K     |████████████████████████████████| 138 kB 58.5 MB/s \n",
            "\u001b[?25h  Building wheel for pegasus-wms (PEP 517) ... \u001b[?25l\u001b[?25hdone\n",
            "  Building wheel for pegasus-wms.api (PEP 517) ... \u001b[?25l\u001b[?25hdone\n",
            "  Building wheel for pegasus-wms.common (PEP 517) ... \u001b[?25l\u001b[?25hdone\n",
            "  Building wheel for pegasus-wms.dax (PEP 517) ... \u001b[?25l\u001b[?25hdone\n",
            "  Building wheel for pegasus-wms.worker (PEP 517) ... \u001b[?25l\u001b[?25hdone\n",
            "  Building wheel for globus-sdk (setup.py) ... \u001b[?25l\u001b[?25hdone\n",
            "  Building wheel for python-ligo-lw (setup.py) ... \u001b[?25l\u001b[?25hdone\n",
            "  Building wheel for mysqlclient (setup.py) ... \u001b[?25l\u001b[?25hdone\n",
            "\u001b[31mERROR: pip's dependency resolver does not currently take into account all the packages that are installed. This behaviour is the source of the following dependency conflicts.\n",
            "google-colab 1.0.0 requires requests~=2.23.0, but you have requests 2.25.1 which is incompatible.\n",
            "datascience 0.10.6 requires folium==0.2.1, but you have folium 0.8.3 which is incompatible.\u001b[0m\n",
            "Collecting matplotlib==3.1.3\n",
            "  Downloading matplotlib-3.1.3-cp37-cp37m-manylinux1_x86_64.whl (13.1 MB)\n",
            "\u001b[K     |████████████████████████████████| 13.1 MB 5.4 MB/s \n",
            "\u001b[?25hRequirement already satisfied: kiwisolver>=1.0.1 in /usr/local/lib/python3.7/dist-packages (from matplotlib==3.1.3) (1.3.2)\n",
            "Requirement already satisfied: python-dateutil>=2.1 in /usr/local/lib/python3.7/dist-packages (from matplotlib==3.1.3) (2.8.2)\n",
            "Requirement already satisfied: pyparsing!=2.0.4,!=2.1.2,!=2.1.6,>=2.0.1 in /usr/local/lib/python3.7/dist-packages (from matplotlib==3.1.3) (3.0.7)\n",
            "Requirement already satisfied: cycler>=0.10 in /usr/local/lib/python3.7/dist-packages (from matplotlib==3.1.3) (0.11.0)\n",
            "Requirement already satisfied: numpy>=1.11 in /usr/local/lib/python3.7/dist-packages (from matplotlib==3.1.3) (1.19.5)\n",
            "Requirement already satisfied: six>=1.5 in /usr/local/lib/python3.7/dist-packages (from python-dateutil>=2.1->matplotlib==3.1.3) (1.15.0)\n",
            "Installing collected packages: matplotlib\n",
            "  Attempting uninstall: matplotlib\n",
            "    Found existing installation: matplotlib 3.5.1\n",
            "    Uninstalling matplotlib-3.5.1:\n",
            "      Successfully uninstalled matplotlib-3.5.1\n",
            "\u001b[31mERROR: pip's dependency resolver does not currently take into account all the packages that are installed. This behaviour is the source of the following dependency conflicts.\n",
            "gwpy 2.1.3 requires matplotlib>=3.3.0, but you have matplotlib 3.1.3 which is incompatible.\n",
            "albumentations 0.1.12 requires imgaug<0.2.7,>=0.2.5, but you have imgaug 0.2.9 which is incompatible.\u001b[0m\n",
            "Successfully installed matplotlib-3.1.3\n"
          ]
        },
        {
          "output_type": "display_data",
          "data": {
            "application/vnd.colab-display-data+json": {
              "pip_warning": {
                "packages": [
                  "matplotlib",
                  "mpl_toolkits"
                ]
              }
            }
          },
          "metadata": {}
        }
      ]
    },
    {
      "cell_type": "markdown",
      "source": [
        "The data for this challenge is imported as a timeseries from the google drive. "
      ],
      "metadata": {
        "id": "KVn3ajGxAbA9"
      }
    },
    {
      "cell_type": "code",
      "source": [
        "from google.colab import drive\n",
        "from gwpy.timeseries import TimeSeries\n",
        "import pycbc\n",
        "from pycbc import frame\n",
        "\n",
        "drive.mount('/content/drive')\n",
        "\n",
        "pycbc_strain = pycbc.types.load_timeseries('/content/drive/MyDrive/GW_noisedata-2.npy')\n"
      ],
      "metadata": {
        "colab": {
          "base_uri": "https://localhost:8080/"
        },
        "id": "uMBR3olM7UJw",
        "outputId": "42adf353-9712-4946-8721-738bfd9f856c"
      },
      "execution_count": 11,
      "outputs": [
        {
          "output_type": "stream",
          "name": "stdout",
          "text": [
            "Drive already mounted at /content/drive; to attempt to forcibly remount, call drive.mount(\"/content/drive\", force_remount=True).\n"
          ]
        }
      ]
    },
    {
      "cell_type": "markdown",
      "source": [
        "First we make an arange for the masses in the range between 5 and 10 solar masses increasing by 0.1. We also calculate the sample rate and duration of the data. "
      ],
      "metadata": {
        "id": "dQLF7ZUDQsI1"
      }
    },
    {
      "cell_type": "code",
      "source": [
        "import numpy as ar\n",
        "\n",
        "m = ar.arange(5,10,0.1)\n",
        "m1 = m2 = m\n",
        "print(m)\n",
        "\n",
        "samplerate = pycbc_strain.sample_rate\n",
        "duration = pycbc_strain.duration\n",
        "print('This is the sample rate:', samplerate, 'and the duration:', duration)"
      ],
      "metadata": {
        "colab": {
          "base_uri": "https://localhost:8080/"
        },
        "id": "UH5YG4aRARl8",
        "outputId": "82a8abd2-df32-429b-d235-4e931dbf0d3e"
      },
      "execution_count": 18,
      "outputs": [
        {
          "output_type": "stream",
          "name": "stdout",
          "text": [
            "[5.  5.1 5.2 5.3 5.4 5.5 5.6 5.7 5.8 5.9 6.  6.1 6.2 6.3 6.4 6.5\n",
            " 6.6 6.7 6.8 6.9 7.  7.1 7.2 7.3 7.4 7.5 7.6 7.7 7.8 7.9 8.  8.1\n",
            " 8.2 8.3 8.4 8.5 8.6 8.7 8.8 8.9 9.  9.1 9.2 9.3 9.4 9.5 9.6 9.7\n",
            " 9.8 9.9]\n",
            "This is the sample rate: 4096.0 and the duration: 256.0\n"
          ]
        }
      ]
    },
    {
      "cell_type": "markdown",
      "source": [
        "Here we import all the packeages that we need for the task."
      ],
      "metadata": {
        "id": "hgibyd8MGH7s"
      }
    },
    {
      "cell_type": "code",
      "source": [
        "from pycbc.filter import matched_filter\n",
        "import numpy\n",
        "from pycbc.waveform import get_td_waveform\n",
        "import pylab\n",
        "from pycbc import frame\n",
        "from pycbc.filter import matched_filter\n",
        "import numpy\n",
        "import pylab\n",
        "from pycbc.filter import resample_to_delta_t, highpass\n",
        "from pycbc.psd import interpolate, inverse_spectrum_truncation"
      ],
      "metadata": {
        "id": "6iHZsScKHAX2"
      },
      "execution_count": 19,
      "outputs": []
    },
    {
      "cell_type": "markdown",
      "source": [
        "We then create a template for the cross polarization using the get_td_waveform method and the same approximant as in challenge 2 and 3. However now, we iterate over the different possible masses using a for loop and the previously create arange. "
      ],
      "metadata": {
        "id": "rWgytko7RL5j"
      }
    },
    {
      "cell_type": "code",
      "source": [
        "listsnr = ar.zeros((len(m), 2), float)\n",
        "\n",
        "for i in range(0, len(m)):\n",
        "  hp = get_td_waveform(approximant=\"SEOBNRv4_opt\",\n",
        "                     mass1=m[i],\n",
        "                     mass2=m[i],\n",
        "                     delta_t=pycbc_strain.delta_t,\n",
        "                     f_lower=15)"
      ],
      "metadata": {
        "colab": {
          "base_uri": "https://localhost:8080/",
          "height": 341
        },
        "id": "kVRUgF2uGIgu",
        "outputId": "8df567fa-bc13-4e94-86b2-8b2feb35fa63"
      },
      "execution_count": 56,
      "outputs": [
        {
          "output_type": "error",
          "ename": "RuntimeError",
          "evalue": "ignored",
          "traceback": [
            "\u001b[0;31m---------------------------------------------------------------------------\u001b[0m",
            "\u001b[0;31mRuntimeError\u001b[0m                              Traceback (most recent call last)",
            "\u001b[0;32m<ipython-input-56-9c148a152eab>\u001b[0m in \u001b[0;36m<module>\u001b[0;34m()\u001b[0m\n\u001b[1;32m      6\u001b[0m                      \u001b[0mmass2\u001b[0m\u001b[0;34m=\u001b[0m\u001b[0mm\u001b[0m\u001b[0;34m[\u001b[0m\u001b[0mi\u001b[0m\u001b[0;34m]\u001b[0m\u001b[0;34m,\u001b[0m\u001b[0;34m\u001b[0m\u001b[0;34m\u001b[0m\u001b[0m\n\u001b[1;32m      7\u001b[0m                      \u001b[0mdelta_t\u001b[0m\u001b[0;34m=\u001b[0m\u001b[0mpycbc_strain\u001b[0m\u001b[0;34m.\u001b[0m\u001b[0mdelta_t\u001b[0m\u001b[0;34m,\u001b[0m\u001b[0;34m\u001b[0m\u001b[0;34m\u001b[0m\u001b[0m\n\u001b[0;32m----> 8\u001b[0;31m                      f_lower=15)\n\u001b[0m",
            "\u001b[0;32m/usr/local/lib/python3.7/dist-packages/pycbc/waveform/waveform.py\u001b[0m in \u001b[0;36mget_td_waveform\u001b[0;34m(template, **kwargs)\u001b[0m\n\u001b[1;32m    555\u001b[0m         \u001b[0mrequired\u001b[0m \u001b[0;34m=\u001b[0m \u001b[0mparameters\u001b[0m\u001b[0;34m.\u001b[0m\u001b[0mtd_required\u001b[0m\u001b[0;34m\u001b[0m\u001b[0;34m\u001b[0m\u001b[0m\n\u001b[1;32m    556\u001b[0m     \u001b[0mcheck_args\u001b[0m\u001b[0;34m(\u001b[0m\u001b[0minput_params\u001b[0m\u001b[0;34m,\u001b[0m \u001b[0mrequired\u001b[0m\u001b[0;34m)\u001b[0m\u001b[0;34m\u001b[0m\u001b[0;34m\u001b[0m\u001b[0m\n\u001b[0;32m--> 557\u001b[0;31m     \u001b[0;32mreturn\u001b[0m \u001b[0mwav_gen\u001b[0m\u001b[0;34m(\u001b[0m\u001b[0;34m**\u001b[0m\u001b[0minput_params\u001b[0m\u001b[0;34m)\u001b[0m\u001b[0;34m\u001b[0m\u001b[0;34m\u001b[0m\u001b[0m\n\u001b[0m\u001b[1;32m    558\u001b[0m \u001b[0;34m\u001b[0m\u001b[0m\n\u001b[1;32m    559\u001b[0m get_td_waveform.__doc__ = get_td_waveform.__doc__.format(\n",
            "\u001b[0;32m/usr/local/lib/python3.7/dist-packages/pycbc/waveform/waveform.py\u001b[0m in \u001b[0;36m_lalsim_td_waveform\u001b[0;34m(**p)\u001b[0m\n\u001b[1;32m    188\u001b[0m                \u001b[0mfloat\u001b[0m\u001b[0;34m(\u001b[0m\u001b[0mp\u001b[0m\u001b[0;34m[\u001b[0m\u001b[0;34m'delta_t'\u001b[0m\u001b[0;34m]\u001b[0m\u001b[0;34m)\u001b[0m\u001b[0;34m,\u001b[0m \u001b[0mfloat\u001b[0m\u001b[0;34m(\u001b[0m\u001b[0mp\u001b[0m\u001b[0;34m[\u001b[0m\u001b[0;34m'f_lower'\u001b[0m\u001b[0;34m]\u001b[0m\u001b[0;34m)\u001b[0m\u001b[0;34m,\u001b[0m \u001b[0mfloat\u001b[0m\u001b[0;34m(\u001b[0m\u001b[0mp\u001b[0m\u001b[0;34m[\u001b[0m\u001b[0;34m'f_ref'\u001b[0m\u001b[0;34m]\u001b[0m\u001b[0;34m)\u001b[0m\u001b[0;34m,\u001b[0m\u001b[0;34m\u001b[0m\u001b[0;34m\u001b[0m\u001b[0m\n\u001b[1;32m    189\u001b[0m                \u001b[0mlal_pars\u001b[0m\u001b[0;34m,\u001b[0m\u001b[0;34m\u001b[0m\u001b[0;34m\u001b[0m\u001b[0m\n\u001b[0;32m--> 190\u001b[0;31m                _lalsim_enum[p['approximant']])\n\u001b[0m\u001b[1;32m    191\u001b[0m     \u001b[0;32mexcept\u001b[0m \u001b[0mRuntimeError\u001b[0m\u001b[0;34m:\u001b[0m\u001b[0;34m\u001b[0m\u001b[0;34m\u001b[0m\u001b[0m\n\u001b[1;32m    192\u001b[0m         \u001b[0;32mif\u001b[0m \u001b[0;32mnot\u001b[0m \u001b[0mfail_tolerant_waveform_generation\u001b[0m\u001b[0;34m:\u001b[0m\u001b[0;34m\u001b[0m\u001b[0;34m\u001b[0m\u001b[0m\n",
            "\u001b[0;31mRuntimeError\u001b[0m: Internal function call failed: Input domain error"
          ]
        }
      ]
    },
    {
      "cell_type": "markdown",
      "source": [
        "We then follow the same steps to condition the data as in challenge 2 and 3 and create a PSD of the data. "
      ],
      "metadata": {
        "id": "Efuxn8pRR1Ic"
      }
    },
    {
      "cell_type": "code",
      "source": [
        "pycbc_strain = highpass(pycbc_strain, 15.0)\n",
        "pycbc_strain = resample_to_delta_t(pycbc_strain, 1.0/2048)\n",
        "conditioned = pycbc_strain.crop(3,3)\n",
        "# Resize the vector to match our data\n",
        "hp.resize(len(conditioned))\n",
        "\n",
        "template = hp.cyclic_time_shift(hp.start_time)\n"
      ],
      "metadata": {
        "id": "Oek0r1A-LTv_"
      },
      "execution_count": 33,
      "outputs": []
    },
    {
      "cell_type": "code",
      "source": [
        "from pycbc.psd import interpolate, inverse_spectrum_truncation\n",
        "psd = pycbc_strain.psd(4)\n",
        "# Estimate the power spectral density\n",
        "\n",
        "# We use 4 second samples of our time series since the data length is 128 which is divisible by 4\n",
        "psd = conditioned.psd(4)\n",
        "\n",
        "# Now that we have the psd we need to interpolate it to match our data\n",
        "# and then limit the filter length of 1 / PSD. After this, we can\n",
        "# directly use this PSD to filter the data in a controlled manner\n",
        "psd = interpolate(psd, conditioned.delta_f)\n",
        "\n",
        "# 1/PSD will now act as a filter with an effective length of 4 seconds\n",
        "# Since the data has been highpassed above 15 Hz, and will have low values\n",
        "# below this we need to inform the function to not include frequencies\n",
        "# below this frequency. \n",
        "psd = inverse_spectrum_truncation(psd, int(4 * conditioned.sample_rate),\n",
        "                                  low_frequency_cutoff=15)"
      ],
      "metadata": {
        "id": "XZJlk-67KK5F"
      },
      "execution_count": 41,
      "outputs": []
    },
    {
      "cell_type": "markdown",
      "source": [
        "Finally we want to create the SNR plot showing the peaks of SNR for the different masses. THis should be done by using a for loop to iterate over the masses. "
      ],
      "metadata": {
        "id": "T6-dl0FpSGpv"
      }
    },
    {
      "cell_type": "code",
      "source": [
        "snr = matched_filter(template, conditioned,\n",
        "                     psd=psd, \n",
        "                     low_frequency_cutoff=15\n",
        "                     )\n",
        "\n",
        "snr = snr.crop(4 + 4, 4)\n",
        "\n",
        "# for loop to iterate over masses and find all the maximum SNRs \n",
        "# ???\n",
        "\n",
        "pylab.figure(figsize=[10, 4])\n",
        "pylab.plot(snr.sample_times, abs(snr))\n",
        "pylab.ylabel('Signal-to-noise')\n",
        "pylab.xlabel('Time (s)')\n",
        "pylab.show()\n",
        "\n",
        "peak = abs(snr).numpy().argmax()\n",
        "snrp = snr[peak]\n",
        "time = snr.sample_times[peak]\n",
        "\n",
        "print(\"We found a signal at {}s with SNR {}\".format(time, \n",
        "                                                    abs(snrp)))"
      ],
      "metadata": {
        "colab": {
          "base_uri": "https://localhost:8080/",
          "height": 477
        },
        "id": "EuqOB_d9Lb05",
        "outputId": "61f57d4a-bf64-4a39-d425-d919d863d416"
      },
      "execution_count": 42,
      "outputs": [
        {
          "output_type": "error",
          "ename": "ValueError",
          "evalue": "ignored",
          "traceback": [
            "\u001b[0;31m---------------------------------------------------------------------------\u001b[0m",
            "\u001b[0;31mAssertionError\u001b[0m                            Traceback (most recent call last)",
            "\u001b[0;32m/usr/local/lib/python3.7/dist-packages/pycbc/filter/matchedfilter.py\u001b[0m in \u001b[0;36msigmasq\u001b[0;34m(htilde, psd, low_frequency_cutoff, high_frequency_cutoff)\u001b[0m\n\u001b[1;32m   1095\u001b[0m         \u001b[0;32mtry\u001b[0m\u001b[0;34m:\u001b[0m\u001b[0;34m\u001b[0m\u001b[0;34m\u001b[0m\u001b[0m\n\u001b[0;32m-> 1096\u001b[0;31m             \u001b[0mnumpy\u001b[0m\u001b[0;34m.\u001b[0m\u001b[0mtesting\u001b[0m\u001b[0;34m.\u001b[0m\u001b[0massert_almost_equal\u001b[0m\u001b[0;34m(\u001b[0m\u001b[0mht\u001b[0m\u001b[0;34m.\u001b[0m\u001b[0mdelta_f\u001b[0m\u001b[0;34m,\u001b[0m \u001b[0mpsd\u001b[0m\u001b[0;34m.\u001b[0m\u001b[0mdelta_f\u001b[0m\u001b[0;34m)\u001b[0m\u001b[0;34m\u001b[0m\u001b[0;34m\u001b[0m\u001b[0m\n\u001b[0m\u001b[1;32m   1097\u001b[0m         \u001b[0;32mexcept\u001b[0m \u001b[0mAssertionError\u001b[0m\u001b[0;34m:\u001b[0m\u001b[0;34m\u001b[0m\u001b[0;34m\u001b[0m\u001b[0m\n",
            "\u001b[0;32m/usr/local/lib/python3.7/dist-packages/numpy/testing/_private/utils.py\u001b[0m in \u001b[0;36massert_almost_equal\u001b[0;34m(actual, desired, decimal, err_msg, verbose)\u001b[0m\n\u001b[1;32m    594\u001b[0m     \u001b[0;32mif\u001b[0m \u001b[0mabs\u001b[0m\u001b[0;34m(\u001b[0m\u001b[0mdesired\u001b[0m \u001b[0;34m-\u001b[0m \u001b[0mactual\u001b[0m\u001b[0;34m)\u001b[0m \u001b[0;34m>=\u001b[0m \u001b[0;36m1.5\u001b[0m \u001b[0;34m*\u001b[0m \u001b[0;36m10.0\u001b[0m\u001b[0;34m**\u001b[0m\u001b[0;34m(\u001b[0m\u001b[0;34m-\u001b[0m\u001b[0mdecimal\u001b[0m\u001b[0;34m)\u001b[0m\u001b[0;34m:\u001b[0m\u001b[0;34m\u001b[0m\u001b[0;34m\u001b[0m\u001b[0m\n\u001b[0;32m--> 595\u001b[0;31m         \u001b[0;32mraise\u001b[0m \u001b[0mAssertionError\u001b[0m\u001b[0;34m(\u001b[0m\u001b[0m_build_err_msg\u001b[0m\u001b[0;34m(\u001b[0m\u001b[0;34m)\u001b[0m\u001b[0;34m)\u001b[0m\u001b[0;34m\u001b[0m\u001b[0;34m\u001b[0m\u001b[0m\n\u001b[0m\u001b[1;32m    596\u001b[0m \u001b[0;34m\u001b[0m\u001b[0m\n",
            "\u001b[0;31mAssertionError\u001b[0m: \nArrays are not almost equal to 7 decimals\n ACTUAL: 0.008\n DESIRED: 0.004",
            "\nDuring handling of the above exception, another exception occurred:\n",
            "\u001b[0;31mValueError\u001b[0m                                Traceback (most recent call last)",
            "\u001b[0;32m<ipython-input-42-2f512713c140>\u001b[0m in \u001b[0;36m<module>\u001b[0;34m()\u001b[0m\n\u001b[1;32m      1\u001b[0m snr = matched_filter(template, conditioned,\n\u001b[1;32m      2\u001b[0m                      \u001b[0mpsd\u001b[0m\u001b[0;34m=\u001b[0m\u001b[0mpsd\u001b[0m\u001b[0;34m,\u001b[0m\u001b[0;34m\u001b[0m\u001b[0;34m\u001b[0m\u001b[0m\n\u001b[0;32m----> 3\u001b[0;31m                      \u001b[0mlow_frequency_cutoff\u001b[0m\u001b[0;34m=\u001b[0m\u001b[0;36m15\u001b[0m\u001b[0;34m\u001b[0m\u001b[0;34m\u001b[0m\u001b[0m\n\u001b[0m\u001b[1;32m      4\u001b[0m                      )\n\u001b[1;32m      5\u001b[0m \u001b[0;34m\u001b[0m\u001b[0m\n",
            "\u001b[0;32m/usr/local/lib/python3.7/dist-packages/pycbc/filter/matchedfilter.py\u001b[0m in \u001b[0;36mmatched_filter\u001b[0;34m(template, data, psd, low_frequency_cutoff, high_frequency_cutoff, sigmasq)\u001b[0m\n\u001b[1;32m   1319\u001b[0m     snr, _, norm = matched_filter_core(template, data, psd=psd,\n\u001b[1;32m   1320\u001b[0m             \u001b[0mlow_frequency_cutoff\u001b[0m\u001b[0;34m=\u001b[0m\u001b[0mlow_frequency_cutoff\u001b[0m\u001b[0;34m,\u001b[0m\u001b[0;34m\u001b[0m\u001b[0;34m\u001b[0m\u001b[0m\n\u001b[0;32m-> 1321\u001b[0;31m             high_frequency_cutoff=high_frequency_cutoff, h_norm=sigmasq)\n\u001b[0m\u001b[1;32m   1322\u001b[0m     \u001b[0;32mreturn\u001b[0m \u001b[0msnr\u001b[0m \u001b[0;34m*\u001b[0m \u001b[0mnorm\u001b[0m\u001b[0;34m\u001b[0m\u001b[0;34m\u001b[0m\u001b[0m\n\u001b[1;32m   1323\u001b[0m \u001b[0;34m\u001b[0m\u001b[0m\n",
            "\u001b[0;32m/usr/local/lib/python3.7/dist-packages/pycbc/filter/matchedfilter.py\u001b[0m in \u001b[0;36mmatched_filter_core\u001b[0;34m(template, data, psd, low_frequency_cutoff, high_frequency_cutoff, h_norm, out, corr_out)\u001b[0m\n\u001b[1;32m   1252\u001b[0m \u001b[0;34m\u001b[0m\u001b[0m\n\u001b[1;32m   1253\u001b[0m     \u001b[0;32mif\u001b[0m \u001b[0mh_norm\u001b[0m \u001b[0;32mis\u001b[0m \u001b[0;32mNone\u001b[0m\u001b[0;34m:\u001b[0m\u001b[0;34m\u001b[0m\u001b[0;34m\u001b[0m\u001b[0m\n\u001b[0;32m-> 1254\u001b[0;31m         \u001b[0mh_norm\u001b[0m \u001b[0;34m=\u001b[0m \u001b[0msigmasq\u001b[0m\u001b[0;34m(\u001b[0m\u001b[0mhtilde\u001b[0m\u001b[0;34m,\u001b[0m \u001b[0mpsd\u001b[0m\u001b[0;34m,\u001b[0m \u001b[0mlow_frequency_cutoff\u001b[0m\u001b[0;34m,\u001b[0m \u001b[0mhigh_frequency_cutoff\u001b[0m\u001b[0;34m)\u001b[0m\u001b[0;34m\u001b[0m\u001b[0;34m\u001b[0m\u001b[0m\n\u001b[0m\u001b[1;32m   1255\u001b[0m \u001b[0;34m\u001b[0m\u001b[0m\n\u001b[1;32m   1256\u001b[0m     \u001b[0mnorm\u001b[0m \u001b[0;34m=\u001b[0m \u001b[0;34m(\u001b[0m\u001b[0;36m4.0\u001b[0m \u001b[0;34m*\u001b[0m \u001b[0mstilde\u001b[0m\u001b[0;34m.\u001b[0m\u001b[0mdelta_f\u001b[0m\u001b[0;34m)\u001b[0m \u001b[0;34m/\u001b[0m \u001b[0msqrt\u001b[0m\u001b[0;34m(\u001b[0m \u001b[0mh_norm\u001b[0m\u001b[0;34m)\u001b[0m\u001b[0;34m\u001b[0m\u001b[0;34m\u001b[0m\u001b[0m\n",
            "\u001b[0;32m/usr/local/lib/python3.7/dist-packages/pycbc/filter/matchedfilter.py\u001b[0m in \u001b[0;36msigmasq\u001b[0;34m(htilde, psd, low_frequency_cutoff, high_frequency_cutoff)\u001b[0m\n\u001b[1;32m   1096\u001b[0m             \u001b[0mnumpy\u001b[0m\u001b[0;34m.\u001b[0m\u001b[0mtesting\u001b[0m\u001b[0;34m.\u001b[0m\u001b[0massert_almost_equal\u001b[0m\u001b[0;34m(\u001b[0m\u001b[0mht\u001b[0m\u001b[0;34m.\u001b[0m\u001b[0mdelta_f\u001b[0m\u001b[0;34m,\u001b[0m \u001b[0mpsd\u001b[0m\u001b[0;34m.\u001b[0m\u001b[0mdelta_f\u001b[0m\u001b[0;34m)\u001b[0m\u001b[0;34m\u001b[0m\u001b[0;34m\u001b[0m\u001b[0m\n\u001b[1;32m   1097\u001b[0m         \u001b[0;32mexcept\u001b[0m \u001b[0mAssertionError\u001b[0m\u001b[0;34m:\u001b[0m\u001b[0;34m\u001b[0m\u001b[0;34m\u001b[0m\u001b[0m\n\u001b[0;32m-> 1098\u001b[0;31m             \u001b[0;32mraise\u001b[0m \u001b[0mValueError\u001b[0m\u001b[0;34m(\u001b[0m\u001b[0;34m'Waveform does not have same delta_f as psd'\u001b[0m\u001b[0;34m)\u001b[0m\u001b[0;34m\u001b[0m\u001b[0;34m\u001b[0m\u001b[0m\n\u001b[0m\u001b[1;32m   1099\u001b[0m \u001b[0;34m\u001b[0m\u001b[0m\n\u001b[1;32m   1100\u001b[0m     \u001b[0;32mif\u001b[0m \u001b[0mpsd\u001b[0m \u001b[0;32mis\u001b[0m \u001b[0;32mNone\u001b[0m\u001b[0;34m:\u001b[0m\u001b[0;34m\u001b[0m\u001b[0;34m\u001b[0m\u001b[0m\n",
            "\u001b[0;31mValueError\u001b[0m: Waveform does not have same delta_f as psd"
          ]
        }
      ]
    },
    {
      "cell_type": "markdown",
      "source": [
        "For the second part we first whiten the data as it is done in the tutorial. The we calculate the mean of the whtened data. "
      ],
      "metadata": {
        "id": "LoBJR5UBSgUo"
      }
    },
    {
      "cell_type": "code",
      "source": [
        "data_whitened = (conditioned.to_frequencyseries() / psd**0.5).to_timeseries()\n"
      ],
      "metadata": {
        "id": "Z-riPX6VMEfu"
      },
      "execution_count": 43,
      "outputs": []
    },
    {
      "cell_type": "code",
      "source": [
        "sum = data_whitened.sum()\n",
        "mean = sum/len(data_whitened)\n",
        "print(mean)"
      ],
      "metadata": {
        "colab": {
          "base_uri": "https://localhost:8080/"
        },
        "id": "Em4shjjZNGwZ",
        "outputId": "281403d5-f3a5-4bc1-e5ca-ea7b93e5404e"
      },
      "execution_count": 44,
      "outputs": [
        {
          "output_type": "stream",
          "name": "stdout",
          "text": [
            "-5.9940933682423035e-06\n"
          ]
        }
      ]
    },
    {
      "cell_type": "markdown",
      "source": [
        "We can see that the mean is approximately zero. Then we want to plot a histogram of the data. The distibution of the data should follow the gaussian distribution around the mean that is equal to (almost) zero."
      ],
      "metadata": {
        "id": "1I8CIO7oSwI5"
      }
    },
    {
      "cell_type": "code",
      "source": [
        "import matplotlib.pyplot as plot\n",
        "import numpy as np\n",
        "from matplotlib import colors\n",
        "from matplotlib.ticker import PercentFormatter\n",
        "\n",
        "n_bins = 100\n",
        "plot = plot.hist(data_whitened, n_bins)\n",
        "plot"
      ],
      "metadata": {
        "colab": {
          "base_uri": "https://localhost:8080/"
        },
        "id": "ZI7IrBumOPGj",
        "outputId": "96608b2f-6865-498f-8a7f-48c03a6203f3"
      },
      "execution_count": 57,
      "outputs": [
        {
          "output_type": "execute_result",
          "data": {
            "text/plain": [
              "(array([1.00000e+00, 0.00000e+00, 0.00000e+00, 0.00000e+00,\n",
              "        0.00000e+00, 0.00000e+00, 0.00000e+00, 0.00000e+00,\n",
              "        0.00000e+00, 0.00000e+00, 0.00000e+00, 0.00000e+00,\n",
              "        1.00000e+00, 0.00000e+00, 0.00000e+00, 0.00000e+00,\n",
              "        0.00000e+00, 1.00000e+00, 0.00000e+00, 0.00000e+00,\n",
              "        0.00000e+00, 0.00000e+00, 0.00000e+00, 0.00000e+00,\n",
              "        0.00000e+00, 1.00000e+00, 0.00000e+00, 0.00000e+00,\n",
              "        0.00000e+00, 1.00000e+00, 0.00000e+00, 1.00000e+00,\n",
              "        0.00000e+00, 0.00000e+00, 0.00000e+00, 0.00000e+00,\n",
              "        0.00000e+00, 0.00000e+00, 1.00000e+00, 0.00000e+00,\n",
              "        1.00000e+00, 1.00000e+00, 0.00000e+00, 0.00000e+00,\n",
              "        1.00000e+00, 2.40000e+01, 3.74000e+02, 2.32100e+03,\n",
              "        1.12630e+04, 3.65760e+04, 8.13270e+04, 1.20769e+05,\n",
              "        1.22110e+05, 8.35310e+04, 3.86210e+04, 1.20780e+04,\n",
              "        2.58600e+03, 3.64000e+02, 3.50000e+01, 2.00000e+00,\n",
              "        1.00000e+00, 1.00000e+00, 0.00000e+00, 0.00000e+00,\n",
              "        0.00000e+00, 0.00000e+00, 1.00000e+00, 0.00000e+00,\n",
              "        0.00000e+00, 1.00000e+00, 0.00000e+00, 0.00000e+00,\n",
              "        0.00000e+00, 0.00000e+00, 0.00000e+00, 0.00000e+00,\n",
              "        0.00000e+00, 0.00000e+00, 0.00000e+00, 0.00000e+00,\n",
              "        0.00000e+00, 2.00000e+00, 0.00000e+00, 0.00000e+00,\n",
              "        0.00000e+00, 0.00000e+00, 0.00000e+00, 0.00000e+00,\n",
              "        0.00000e+00, 0.00000e+00, 0.00000e+00, 0.00000e+00,\n",
              "        0.00000e+00, 0.00000e+00, 0.00000e+00, 0.00000e+00,\n",
              "        0.00000e+00, 1.00000e+00, 1.00000e+00, 1.00000e+00]),\n",
              " array([-1.05240470e+03, -1.03217579e+03, -1.01194687e+03,\n",
              "        -9.91717959e+02, -9.71489046e+02, -9.51260132e+02,\n",
              "        -9.31031219e+02, -9.10802306e+02, -8.90573392e+02,\n",
              "        -8.70344479e+02, -8.50115566e+02, -8.29886653e+02,\n",
              "        -8.09657739e+02, -7.89428826e+02, -7.69199913e+02,\n",
              "        -7.48971000e+02, -7.28742086e+02, -7.08513173e+02,\n",
              "        -6.88284260e+02, -6.68055346e+02, -6.47826433e+02,\n",
              "        -6.27597520e+02, -6.07368607e+02, -5.87139693e+02,\n",
              "        -5.66910780e+02, -5.46681867e+02, -5.26452954e+02,\n",
              "        -5.06224040e+02, -4.85995127e+02, -4.65766214e+02,\n",
              "        -4.45537301e+02, -4.25308387e+02, -4.05079474e+02,\n",
              "        -3.84850561e+02, -3.64621647e+02, -3.44392734e+02,\n",
              "        -3.24163821e+02, -3.03934908e+02, -2.83705994e+02,\n",
              "        -2.63477081e+02, -2.43248168e+02, -2.23019255e+02,\n",
              "        -2.02790341e+02, -1.82561428e+02, -1.62332515e+02,\n",
              "        -1.42103602e+02, -1.21874688e+02, -1.01645775e+02,\n",
              "        -8.14168617e+01, -6.11879484e+01, -4.09590352e+01,\n",
              "        -2.07301219e+01, -5.01208635e-01,  1.97277046e+01,\n",
              "         3.99566179e+01,  6.01855312e+01,  8.04144444e+01,\n",
              "         1.00643358e+02,  1.20872271e+02,  1.41101184e+02,\n",
              "         1.61330098e+02,  1.81559011e+02,  2.01787924e+02,\n",
              "         2.22016837e+02,  2.42245751e+02,  2.62474664e+02,\n",
              "         2.82703577e+02,  3.02932490e+02,  3.23161404e+02,\n",
              "         3.43390317e+02,  3.63619230e+02,  3.83848143e+02,\n",
              "         4.04077057e+02,  4.24305970e+02,  4.44534883e+02,\n",
              "         4.64763797e+02,  4.84992710e+02,  5.05221623e+02,\n",
              "         5.25450536e+02,  5.45679450e+02,  5.65908363e+02,\n",
              "         5.86137276e+02,  6.06366189e+02,  6.26595103e+02,\n",
              "         6.46824016e+02,  6.67052929e+02,  6.87281842e+02,\n",
              "         7.07510756e+02,  7.27739669e+02,  7.47968582e+02,\n",
              "         7.68197496e+02,  7.88426409e+02,  8.08655322e+02,\n",
              "         8.28884235e+02,  8.49113149e+02,  8.69342062e+02,\n",
              "         8.89570975e+02,  9.09799888e+02,  9.30028802e+02,\n",
              "         9.50257715e+02,  9.70486628e+02]),\n",
              " <a list of 100 Patch objects>)"
            ]
          },
          "metadata": {},
          "execution_count": 57
        }
      ]
    }
  ]
}